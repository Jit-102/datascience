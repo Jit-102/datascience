{
  "metadata": {
    "kernelspec": {
      "name": "python",
      "display_name": "Python (Pyodide)",
      "language": "python"
    },
    "language_info": {
      "codemirror_mode": {
        "name": "python",
        "version": 3
      },
      "file_extension": ".py",
      "mimetype": "text/x-python",
      "name": "python",
      "nbconvert_exporter": "python",
      "pygments_lexer": "ipython3",
      "version": "3.8"
    }
  },
  "nbformat_minor": 5,
  "nbformat": 4,
  "cells": [
    {
      "id": "92a4e4f4-03ce-4f48-b768-6c2fc24c9884",
      "cell_type": "markdown",
      "source": "# Datascience Tools and Ecosystem\nIn this notebook, Data Science Tools and Ecosystem are summarized.",
      "metadata": {}
    },
    {
      "id": "c4a8f96c-e8a8-4de3-b186-c2ba22e3f25b",
      "cell_type": "markdown",
      "source": "Some of the popular languages that Data Scientists use are:\n1. Python\n2. R\n3. SQL\n4. Java\n5. C++",
      "metadata": {}
    },
    {
      "id": "7769869d-2b69-4bb2-a62d-1015379d467d",
      "cell_type": "markdown",
      "source": "Some of the commonly used libraries used by Data Scientists include:\n1. R- dplyr\n2. R- stringr\n3. R- ggplot\n4. R- caret\n5. Python- numpy\n6. Python- pandas\n",
      "metadata": {}
    },
    {
      "id": "1d1cae82-e7de-4bac-8813-87ab975c8521",
      "cell_type": "markdown",
      "source": "|Data Science Tools|\n|---------------------|\n|Anaconda|\n|Jupyter Lab|\n|Jupyter Lite|\n|R Studio|\n|IBM Watson studio|",
      "metadata": {}
    },
    {
      "id": "11c0bab0-2f40-4eb6-8c52-acb32cd869e5",
      "cell_type": "code",
      "source": "### Below are a few examples of evaluating arithmetic expressions in Python:###\nx= 4+3\ny= x+(5-3)\nz= y-(4*5)\na= z-(10/5)\nprint (a)",
      "metadata": {
        "trusted": true
      },
      "outputs": [
        {
          "name": "stdout",
          "output_type": "stream",
          "text": "-13.0\n"
        }
      ],
      "execution_count": 7
    },
    {
      "id": "0728b72f-2fde-418f-910a-8410f51e742e",
      "cell_type": "code",
      "source": "#This is a simmple arithmetic expression to multiply and then add integers#\n3*4+5\n",
      "metadata": {
        "trusted": true
      },
      "outputs": [
        {
          "execution_count": 8,
          "output_type": "execute_result",
          "data": {
            "text/plain": "17"
          },
          "metadata": {}
        }
      ],
      "execution_count": 8
    },
    {
      "id": "0efbdb3d-d6cb-48e5-b46e-cd5c1488189c",
      "cell_type": "code",
      "source": "#This will convert minutes to hours by dividing by 60#\nmins=200\nhours= 200/60\nhours",
      "metadata": {
        "trusted": true
      },
      "outputs": [
        {
          "execution_count": 11,
          "output_type": "execute_result",
          "data": {
            "text/plain": "3.3333333333333335"
          },
          "metadata": {}
        }
      ],
      "execution_count": 11
    },
    {
      "id": "18a0b21b-6cd1-4202-af0e-0ce14c1c35e6",
      "cell_type": "markdown",
      "source": "#### List **popular languages** for Datascience ####\n- R\n- Python\n- SQL\n- Java\n- C++",
      "metadata": {}
    },
    {
      "id": "bebd92f8-a161-4c3e-a1a6-41e5ec4ee133",
      "cell_type": "markdown",
      "source": "## Author ##\nJit Goria",
      "metadata": {}
    },
    {
      "id": "ac4288ee-27be-4071-9616-04440a21aa53",
      "cell_type": "code",
      "source": "",
      "metadata": {
        "trusted": true
      },
      "outputs": [],
      "execution_count": null
    }
  ]
}